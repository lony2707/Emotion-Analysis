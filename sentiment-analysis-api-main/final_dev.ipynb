{
  "cells": [
    {
      "cell_type": "markdown",
      "metadata": {
        "id": "8DF-QiZIlCau"
      },
      "source": [
        "# Import libraries"
      ]
    },
    {
      "cell_type": "code",
      "execution_count": 44,
      "metadata": {
        "_cell_guid": "b1076dfc-b9ad-4769-8c92-a6c4dae69d19",
        "_uuid": "8f2839f25d086af736a60e9eeb907d3b93b6e0e5",
        "execution": {
          "iopub.execute_input": "2023-05-20T09:57:18.884233Z",
          "iopub.status.busy": "2023-05-20T09:57:18.883438Z",
          "iopub.status.idle": "2023-05-20T09:57:27.009157Z",
          "shell.execute_reply": "2023-05-20T09:57:27.008085Z",
          "shell.execute_reply.started": "2023-05-20T09:57:18.884079Z"
        },
        "id": "xSsSrswIlCbJ",
        "trusted": true
      },
      "outputs": [],
      "source": [
        "import numpy as np\n",
        "import pandas as pd \n",
        "import tensorflow as tf\n",
        "import nltk\n",
        "import seaborn as sns\n",
        "import re\n",
        "import matplotlib.pyplot as plt\n",
        "\n",
        "from tensorflow.keras.layers import Embedding, Dense, LSTM, Dropout, Bidirectional\n",
        "from tensorflow.keras.preprocessing.sequence import pad_sequences\n",
        "from tensorflow.keras.models import Sequential\n",
        "from tensorflow.keras.preprocessing.text import one_hot, Tokenizer\n",
        "from tensorflow.keras.callbacks import ModelCheckpoint\n",
        "from nltk.corpus import stopwords\n",
        "from nltk.stem.porter import PorterStemmer\n",
        "from sklearn import preprocessing\n",
        "from sklearn.model_selection import train_test_split\n",
        "from sklearn.metrics import accuracy_score, classification_report, confusion_matrix"
      ]
    },
    {
      "cell_type": "code",
      "execution_count": 45,
      "metadata": {
        "colab": {
          "base_uri": "https://localhost:8080/"
        },
        "id": "Od8s_dawlvmX",
        "outputId": "b7469730-880e-4801-b80b-26ddf4086962"
      },
      "outputs": [],
      "source": [
        "# from google.colab import drive\n",
        "# drive.mount('/content/drive')"
      ]
    },
    {
      "cell_type": "markdown",
      "metadata": {
        "id": "GToU1HyYlCbO"
      },
      "source": [
        "# Read and clean data"
      ]
    },
    {
      "cell_type": "code",
      "execution_count": 46,
      "metadata": {
        "colab": {
          "base_uri": "https://localhost:8080/",
          "height": 206
        },
        "execution": {
          "iopub.execute_input": "2023-05-20T09:57:27.011197Z",
          "iopub.status.busy": "2023-05-20T09:57:27.010830Z",
          "iopub.status.idle": "2023-05-20T09:57:27.124001Z",
          "shell.execute_reply": "2023-05-20T09:57:27.122911Z",
          "shell.execute_reply.started": "2023-05-20T09:57:27.011157Z"
        },
        "id": "3dx_SWZ9lCbR",
        "outputId": "34dbeca7-4f75-407f-ad15-bfb1d0c00e7f",
        "trusted": true
      },
      "outputs": [
        {
          "data": {
            "text/html": [
              "<div>\n",
              "<style scoped>\n",
              "    .dataframe tbody tr th:only-of-type {\n",
              "        vertical-align: middle;\n",
              "    }\n",
              "\n",
              "    .dataframe tbody tr th {\n",
              "        vertical-align: top;\n",
              "    }\n",
              "\n",
              "    .dataframe thead th {\n",
              "        text-align: right;\n",
              "    }\n",
              "</style>\n",
              "<table border=\"1\" class=\"dataframe\">\n",
              "  <thead>\n",
              "    <tr style=\"text-align: right;\">\n",
              "      <th></th>\n",
              "      <th>Text</th>\n",
              "      <th>Emotion</th>\n",
              "    </tr>\n",
              "  </thead>\n",
              "  <tbody>\n",
              "    <tr>\n",
              "      <th>0</th>\n",
              "      <td>i didnt feel humiliated</td>\n",
              "      <td>sadness</td>\n",
              "    </tr>\n",
              "    <tr>\n",
              "      <th>1</th>\n",
              "      <td>i can go from feeling so hopeless to so damned...</td>\n",
              "      <td>sadness</td>\n",
              "    </tr>\n",
              "    <tr>\n",
              "      <th>2</th>\n",
              "      <td>im grabbing a minute to post i feel greedy wrong</td>\n",
              "      <td>anger</td>\n",
              "    </tr>\n",
              "    <tr>\n",
              "      <th>3</th>\n",
              "      <td>i am ever feeling nostalgic about the fireplac...</td>\n",
              "      <td>love</td>\n",
              "    </tr>\n",
              "    <tr>\n",
              "      <th>4</th>\n",
              "      <td>i am feeling grouchy</td>\n",
              "      <td>anger</td>\n",
              "    </tr>\n",
              "  </tbody>\n",
              "</table>\n",
              "</div>"
            ],
            "text/plain": [
              "                                                Text  Emotion\n",
              "0                            i didnt feel humiliated  sadness\n",
              "1  i can go from feeling so hopeless to so damned...  sadness\n",
              "2   im grabbing a minute to post i feel greedy wrong    anger\n",
              "3  i am ever feeling nostalgic about the fireplac...     love\n",
              "4                               i am feeling grouchy    anger"
            ]
          },
          "execution_count": 46,
          "metadata": {},
          "output_type": "execute_result"
        }
      ],
      "source": [
        "df=pd.read_csv('Emotion_final.csv') #Text data\n",
        "EMBEDDING_FILE= f'glove.6B.100d.txt' #GloVe file path\n",
        "df.head()"
      ]
    },
    {
      "cell_type": "code",
      "execution_count": 47,
      "metadata": {
        "colab": {
          "base_uri": "https://localhost:8080/"
        },
        "id": "ZZErgiR4FL5R",
        "outputId": "dc25d93e-c695-43d0-f8cc-0933b9d4bf89"
      },
      "outputs": [
        {
          "name": "stdout",
          "output_type": "stream",
          "text": [
            "(21459, 2)\n"
          ]
        }
      ],
      "source": [
        "print(df.shape)"
      ]
    },
    {
      "cell_type": "code",
      "execution_count": 48,
      "metadata": {
        "colab": {
          "base_uri": "https://localhost:8080/"
        },
        "id": "00foXnmyFUub",
        "outputId": "04aa0bb4-113c-4652-9a9d-12e98291cc58"
      },
      "outputs": [
        {
          "data": {
            "text/plain": [
              "happy       7029\n",
              "sadness     6265\n",
              "anger       2993\n",
              "fear        2652\n",
              "love        1641\n",
              "surprise     879\n",
              "Name: Emotion, dtype: int64"
            ]
          },
          "execution_count": 48,
          "metadata": {},
          "output_type": "execute_result"
        }
      ],
      "source": [
        "df.Emotion.value_counts()"
      ]
    },
    {
      "cell_type": "code",
      "execution_count": 49,
      "metadata": {
        "colab": {
          "base_uri": "https://localhost:8080/"
        },
        "id": "qyC1SMm0FdNI",
        "outputId": "73b83d1d-a318-4e82-9f19-3a9705d87da8"
      },
      "outputs": [
        {
          "data": {
            "text/plain": [
              "happy       32.755487\n",
              "sadness     29.195209\n",
              "anger       13.947528\n",
              "fear        12.358451\n",
              "love         7.647141\n",
              "surprise     4.096183\n",
              "Name: Emotion, dtype: float64"
            ]
          },
          "execution_count": 49,
          "metadata": {},
          "output_type": "execute_result"
        }
      ],
      "source": [
        "#check if the data is balanced or not\n",
        "df.Emotion.value_counts() / df.shape[0] *100"
      ]
    },
    {
      "cell_type": "code",
      "execution_count": 50,
      "metadata": {
        "colab": {
          "base_uri": "https://localhost:8080/",
          "height": 534
        },
        "execution": {
          "iopub.execute_input": "2023-05-20T09:57:27.127037Z",
          "iopub.status.busy": "2023-05-20T09:57:27.126495Z",
          "iopub.status.idle": "2023-05-20T09:57:27.370980Z",
          "shell.execute_reply": "2023-05-20T09:57:27.369897Z",
          "shell.execute_reply.started": "2023-05-20T09:57:27.126984Z"
        },
        "id": "rq5cQgJHlCbV",
        "outputId": "a262633a-c38e-4755-8ca7-5fcc122318f8",
        "trusted": true
      },
      "outputs": [
        {
          "data": {
            "image/png": "[encoded data removed]",
            "text/plain": [
              "<Figure size 1800x800 with 1 Axes>"
            ]
          },
          "metadata": {},
          "output_type": "display_data"
        }
      ],
      "source": [
        "#Target Classes\n",
        "plt.figure(figsize=(18,8))\n",
        "sns.countplot(x='Emotion', data=df); "
      ]
    },
    {
      "cell_type": "code",
      "execution_count": 51,
      "metadata": {
        "colab": {
          "base_uri": "https://localhost:8080/"
        },
        "id": "wF49V8r8FxIj",
        "outputId": "c5205d06-bba7-4e49-96fc-384a12fe52d9"
      },
      "outputs": [
        {
          "data": {
            "text/plain": [
              "3"
            ]
          },
          "execution_count": 51,
          "metadata": {},
          "output_type": "execute_result"
        }
      ],
      "source": [
        "#print the number of duplicated values \n",
        "df.duplicated().sum()"
      ]
    },
    {
      "cell_type": "code",
      "execution_count": 52,
      "metadata": {
        "id": "OlWasVH6F5rV"
      },
      "outputs": [],
      "source": [
        "#removing duplicated values\n",
        "index = df[df.duplicated() == True].index\n",
        "df.drop(index, axis = 0, inplace = True)\n",
        "df.reset_index(inplace=True, drop = True)"
      ]
    },
    {
      "cell_type": "code",
      "execution_count": 53,
      "metadata": {
        "colab": {
          "base_uri": "https://localhost:8080/",
          "height": 424
        },
        "id": "azV1NWQ8GCQ6",
        "outputId": "7bbd904f-9175-4680-d9d9-598128f3a3b5"
      },
      "outputs": [
        {
          "data": {
            "text/html": [
              "<div>\n",
              "<style scoped>\n",
              "    .dataframe tbody tr th:only-of-type {\n",
              "        vertical-align: middle;\n",
              "    }\n",
              "\n",
              "    .dataframe tbody tr th {\n",
              "        vertical-align: top;\n",
              "    }\n",
              "\n",
              "    .dataframe thead th {\n",
              "        text-align: right;\n",
              "    }\n",
              "</style>\n",
              "<table border=\"1\" class=\"dataframe\">\n",
              "  <thead>\n",
              "    <tr style=\"text-align: right;\">\n",
              "      <th></th>\n",
              "      <th>Text</th>\n",
              "      <th>Emotion</th>\n",
              "    </tr>\n",
              "  </thead>\n",
              "  <tbody>\n",
              "    <tr>\n",
              "      <th>11898</th>\n",
              "      <td>i am feeling stressed and more than a bit anxious</td>\n",
              "      <td>sadness</td>\n",
              "    </tr>\n",
              "    <tr>\n",
              "      <th>16501</th>\n",
              "      <td>i am feeling stressed and more than a bit anxious</td>\n",
              "      <td>anger</td>\n",
              "    </tr>\n",
              "    <tr>\n",
              "      <th>8246</th>\n",
              "      <td>i am not amazing or great at photography but i...</td>\n",
              "      <td>love</td>\n",
              "    </tr>\n",
              "    <tr>\n",
              "      <th>3508</th>\n",
              "      <td>i am not amazing or great at photography but i...</td>\n",
              "      <td>happy</td>\n",
              "    </tr>\n",
              "    <tr>\n",
              "      <th>15704</th>\n",
              "      <td>i began to feel accepted by gaia on her own terms</td>\n",
              "      <td>happy</td>\n",
              "    </tr>\n",
              "    <tr>\n",
              "      <th>...</th>\n",
              "      <td>...</td>\n",
              "      <td>...</td>\n",
              "    </tr>\n",
              "    <tr>\n",
              "      <th>11354</th>\n",
              "      <td>i write these words i feel sweet baby kicks fr...</td>\n",
              "      <td>love</td>\n",
              "    </tr>\n",
              "    <tr>\n",
              "      <th>7685</th>\n",
              "      <td>im still not sure why reilly feels the need to...</td>\n",
              "      <td>surprise</td>\n",
              "    </tr>\n",
              "    <tr>\n",
              "      <th>2908</th>\n",
              "      <td>im still not sure why reilly feels the need to...</td>\n",
              "      <td>fear</td>\n",
              "    </tr>\n",
              "    <tr>\n",
              "      <th>9069</th>\n",
              "      <td>ive also made it with both sugar measurements ...</td>\n",
              "      <td>love</td>\n",
              "    </tr>\n",
              "    <tr>\n",
              "      <th>9596</th>\n",
              "      <td>ive also made it with both sugar measurements ...</td>\n",
              "      <td>happy</td>\n",
              "    </tr>\n",
              "  </tbody>\n",
              "</table>\n",
              "<p>102 rows × 2 columns</p>\n",
              "</div>"
            ],
            "text/plain": [
              "                                                    Text   Emotion\n",
              "11898  i am feeling stressed and more than a bit anxious   sadness\n",
              "16501  i am feeling stressed and more than a bit anxious     anger\n",
              "8246   i am not amazing or great at photography but i...      love\n",
              "3508   i am not amazing or great at photography but i...     happy\n",
              "15704  i began to feel accepted by gaia on her own terms     happy\n",
              "...                                                  ...       ...\n",
              "11354  i write these words i feel sweet baby kicks fr...      love\n",
              "7685   im still not sure why reilly feels the need to...  surprise\n",
              "2908   im still not sure why reilly feels the need to...      fear\n",
              "9069   ive also made it with both sugar measurements ...      love\n",
              "9596   ive also made it with both sugar measurements ...     happy\n",
              "\n",
              "[102 rows x 2 columns]"
            ]
          },
          "execution_count": 53,
          "metadata": {},
          "output_type": "execute_result"
        }
      ],
      "source": [
        "#print the rows which are duplicated (duplicated in the text but with different emotions)\n",
        "duplicated_rows = df[df['Text'].duplicated(keep=False)].sort_values('Text')\n",
        "duplicated_rows"
      ]
    },
    {
      "cell_type": "code",
      "execution_count": 54,
      "metadata": {
        "id": "gfUJhZzOHXC4"
      },
      "outputs": [],
      "source": [
        "#removing duplicated text \n",
        "index = df[df['Text'].duplicated() == True].index\n",
        "df.drop(index, axis = 0, inplace = True)\n",
        "df.reset_index(inplace=True, drop = True)"
      ]
    },
    {
      "cell_type": "code",
      "execution_count": 55,
      "metadata": {
        "execution": {
          "iopub.execute_input": "2023-05-20T09:57:27.373030Z",
          "iopub.status.busy": "2023-05-20T09:57:27.372682Z",
          "iopub.status.idle": "2023-05-20T09:57:27.404494Z",
          "shell.execute_reply": "2023-05-20T09:57:27.403478Z",
          "shell.execute_reply.started": "2023-05-20T09:57:27.372996Z"
        },
        "id": "lJHgJOYxlCbX",
        "trusted": true
      },
      "outputs": [],
      "source": [
        "df=df.dropna() #Drop columns with NA values\n",
        "X=df.drop('Emotion',axis=1) #Taking Text\n",
        "y=df['Emotion'] #Taking Emotion"
      ]
    },
    {
      "cell_type": "code",
      "execution_count": 56,
      "metadata": {
        "colab": {
          "base_uri": "https://localhost:8080/"
        },
        "id": "vLKe-NmBLDpT",
        "outputId": "f2141125-9a90-403d-cf8c-ef6584447870"
      },
      "outputs": [
        {
          "data": {
            "text/plain": [
              "((21405, 1), (21405,))"
            ]
          },
          "execution_count": 56,
          "metadata": {},
          "output_type": "execute_result"
        }
      ],
      "source": [
        "X.shape, y.shape"
      ]
    },
    {
      "cell_type": "code",
      "execution_count": 57,
      "metadata": {
        "execution": {
          "iopub.execute_input": "2023-05-20T09:57:27.406360Z",
          "iopub.status.busy": "2023-05-20T09:57:27.405986Z",
          "iopub.status.idle": "2023-05-20T09:57:27.414793Z",
          "shell.execute_reply": "2023-05-20T09:57:27.413772Z",
          "shell.execute_reply.started": "2023-05-20T09:57:27.406321Z"
        },
        "id": "rVmnGk5hlCba",
        "trusted": true
      },
      "outputs": [],
      "source": [
        "messages=X.copy()\n",
        "messages.reset_index(inplace=True) #Drop NA may cause inconsistency in index"
      ]
    },
    {
      "cell_type": "code",
      "execution_count": 58,
      "metadata": {
        "colab": {
          "base_uri": "https://localhost:8080/"
        },
        "execution": {
          "iopub.execute_input": "2023-05-20T09:57:27.417777Z",
          "iopub.status.busy": "2023-05-20T09:57:27.416163Z",
          "iopub.status.idle": "2023-05-20T09:59:04.122080Z",
          "shell.execute_reply": "2023-05-20T09:59:04.120911Z",
          "shell.execute_reply.started": "2023-05-20T09:57:27.417726Z"
        },
        "id": "TpU1I9lelCbc",
        "outputId": "443bbff3-4ee6-4446-8eae-4495b8f4aed9",
        "trusted": true
      },
      "outputs": [],
      "source": [
        "import pickle\n",
        "stopwords_path = 'stopwords.pkl'\n",
        "with open(stopwords_path, 'rb') as file:\n",
        "    stopwords_list = pickle.load(file)\n",
        "    \n",
        "ps = PorterStemmer()  # reduce word to root form\n",
        "corpus = []\n",
        "for i in range(0, len(messages)):\n",
        "    review = re.sub('[^a-zA-Z]', ' ', messages['Text'][i]) #Remove Special Characters\n",
        "    review = review.lower() #Lower case \n",
        "    review = review.split()\n",
        "    review = [ps.stem(word) for word in review if not word in stopwords_list] #Remove stopwords\n",
        "    review = ' '.join(review)\n",
        "    corpus.append(review)"
      ]
    },
    {
      "cell_type": "code",
      "execution_count": 59,
      "metadata": {
        "colab": {
          "base_uri": "https://localhost:8080/"
        },
        "execution": {
          "iopub.execute_input": "2023-05-20T09:59:04.124093Z",
          "iopub.status.busy": "2023-05-20T09:59:04.123642Z",
          "iopub.status.idle": "2023-05-20T09:59:04.131751Z",
          "shell.execute_reply": "2023-05-20T09:59:04.130518Z",
          "shell.execute_reply.started": "2023-05-20T09:59:04.124047Z"
        },
        "id": "vXmZVFyHlCbg",
        "outputId": "8d82e3c3-9e39-4fd2-ab74-1882f1f98c5f",
        "trusted": true
      },
      "outputs": [
        {
          "data": {
            "text/plain": [
              "['didnt feel humili',\n",
              " 'go feel hopeless damn hope around someon care awak',\n",
              " 'im grab minut post feel greedi wrong',\n",
              " 'ever feel nostalg fireplac know still properti',\n",
              " 'feel grouchi',\n",
              " 'ive feel littl burden late wasnt sure',\n",
              " 'ive take milligram time recommend amount ive fallen asleep lot faster also feel like funni',\n",
              " 'feel confus life teenag jade year old man',\n",
              " 'petrona year feel petrona perform well made huge profit',\n",
              " 'feel romant']"
            ]
          },
          "execution_count": 59,
          "metadata": {},
          "output_type": "execute_result"
        }
      ],
      "source": [
        "corpus[:10]"
      ]
    },
    {
      "cell_type": "markdown",
      "metadata": {
        "id": "lyimoS4ilCbm"
      },
      "source": [
        "# Embedding layer using GloVe "
      ]
    },
    {
      "cell_type": "code",
      "execution_count": 60,
      "metadata": {
        "colab": {
          "base_uri": "https://localhost:8080/"
        },
        "execution": {
          "iopub.execute_input": "2023-05-20T09:59:04.135091Z",
          "iopub.status.busy": "2023-05-20T09:59:04.134761Z",
          "iopub.status.idle": "2023-05-20T09:59:25.514299Z",
          "shell.execute_reply": "2023-05-20T09:59:25.513098Z",
          "shell.execute_reply.started": "2023-05-20T09:59:04.135057Z"
        },
        "id": "WqjbyO6slCbo",
        "outputId": "5f271b05-fec6-4eb9-a5ef-16638a3329d3",
        "trusted": true
      },
      "outputs": [
        {
          "name": "stderr",
          "output_type": "stream",
          "text": [
            "/home/devraj4522/anaconda3/envs/carefi/lib/python3.10/site-packages/IPython/core/interactiveshell.py:3400: FutureWarning: arrays to stack must be passed as a \"sequence\" type such as list or tuple. Support for non-sequence iterables such as generators is deprecated as of NumPy 1.16 and will raise an error in the future.\n",
            "  if await self.run_code(code, result, async_=asy):\n"
          ]
        },
        {
          "name": "stdout",
          "output_type": "stream",
          "text": [
            "0.004451992 0.4081574\n"
          ]
        }
      ],
      "source": [
        "#Creating the dictionary with word as key and pretrained-value array as value\n",
        "def get_coefs(word,*arr): return word, np.asarray(arr, dtype='float32')\n",
        "embeddings_index = dict(get_coefs(*o.strip().split()) for o in open(EMBEDDING_FILE))\n",
        "# print(embeddings_index)\n",
        "#Calculate mean and std for the pretrained weights\n",
        "all_embs = np.stack(embeddings_index.values())\n",
        "emb_mean,emb_std = all_embs.mean(), all_embs.std()\n",
        "print(emb_mean,emb_std)"
      ]
    },
    {
      "cell_type": "code",
      "execution_count": 61,
      "metadata": {
        "execution": {
          "iopub.execute_input": "2023-05-20T09:59:25.517431Z",
          "iopub.status.busy": "2023-05-20T09:59:25.516759Z",
          "iopub.status.idle": "2023-05-20T09:59:26.027236Z",
          "shell.execute_reply": "2023-05-20T09:59:26.025696Z",
          "shell.execute_reply.started": "2023-05-20T09:59:25.517378Z"
        },
        "id": "a6ODTAztlCbs",
        "trusted": true
      },
      "outputs": [],
      "source": [
        "voc_size=10000 # Vocabulary size\n",
        "embed_size=100 #word vector size\n",
        "\n",
        "tokenizer = Tokenizer(num_words=voc_size)\n",
        "tokenizer.fit_on_texts(list(corpus))\n",
        "word_index = tokenizer.word_index #Total words in the corpus\n",
        "nb_words = min(voc_size, len(word_index))\n",
        "\n",
        "#Initialize weight matrix for embedding layer\n",
        "embedding_matrix = np.random.normal(emb_mean, emb_std, (nb_words, embed_size)) \n",
        "\n",
        "for word, i in word_index.items():\n",
        "    if i >= voc_size: continue #Skip the words if vocab size is reached\n",
        "    embedding_vector = embeddings_index.get(word) #Extract the pretrained values from GloVe\n",
        "    if embedding_vector is not None: embedding_matrix[i] = embedding_vector"
      ]
    },
    {
      "cell_type": "code",
      "execution_count": 62,
      "metadata": {
        "colab": {
          "base_uri": "https://localhost:8080/"
        },
        "execution": {
          "iopub.execute_input": "2023-05-20T09:59:26.029249Z",
          "iopub.status.busy": "2023-05-20T09:59:26.028844Z",
          "iopub.status.idle": "2023-05-20T09:59:26.035050Z",
          "shell.execute_reply": "2023-05-20T09:59:26.034145Z",
          "shell.execute_reply.started": "2023-05-20T09:59:26.029207Z"
        },
        "id": "1o0AhuUglCbu",
        "outputId": "94715f75-aa95-49d1-f2dd-c683fc446a85",
        "trusted": true
      },
      "outputs": [
        {
          "data": {
            "text/plain": [
              "10000"
            ]
          },
          "execution_count": 62,
          "metadata": {},
          "output_type": "execute_result"
        }
      ],
      "source": [
        "#Contains the pretrained GloVe weights for the words\n",
        "len(embedding_matrix)"
      ]
    },
    {
      "cell_type": "markdown",
      "metadata": {
        "id": "XWKdr-8zlCby"
      },
      "source": [
        "# Process Input-Output data"
      ]
    },
    {
      "cell_type": "code",
      "execution_count": 63,
      "metadata": {
        "colab": {
          "base_uri": "https://localhost:8080/"
        },
        "execution": {
          "iopub.execute_input": "2023-05-20T09:59:26.036991Z",
          "iopub.status.busy": "2023-05-20T09:59:26.036413Z",
          "iopub.status.idle": "2023-05-20T09:59:26.619018Z",
          "shell.execute_reply": "2023-05-20T09:59:26.617783Z",
          "shell.execute_reply.started": "2023-05-20T09:59:26.036938Z"
        },
        "id": "LF8sHT9ZlCb0",
        "outputId": "a5c9aa74-4c75-4906-9ccf-0fedc76855e3",
        "trusted": true
      },
      "outputs": [
        {
          "name": "stdout",
          "output_type": "stream",
          "text": [
            "[[   0    0    0 ... 4297 7208 5578]\n",
            " [   0    0    0 ... 5041 6599 1824]\n",
            " [   0    0    0 ... 7208  724 8442]\n",
            " ...\n",
            " [   0    0    0 ... 1700 1792 9924]\n",
            " [   0    0    0 ... 4390 9924 4091]\n",
            " [   0    0    0 ...    0 9924 6751]]\n"
          ]
        }
      ],
      "source": [
        "#One hot representation for input\n",
        "onehot_repr=[one_hot(words,voc_size)for words in corpus]\n",
        "\n",
        "#Finding max words\n",
        "l = 0\n",
        "for x in corpus:\n",
        "    l = max(l,len(x.split(' ')))\n",
        "\n",
        "#Padding the sequences for input\n",
        "sent_length= l\n",
        "embedded_docs=pad_sequences(onehot_repr,padding='pre',maxlen=sent_length)\n",
        "print(embedded_docs)"
      ]
    },
    {
      "cell_type": "code",
      "execution_count": 64,
      "metadata": {
        "colab": {
          "base_uri": "https://localhost:8080/"
        },
        "execution": {
          "iopub.execute_input": "2023-05-20T09:59:26.620857Z",
          "iopub.status.busy": "2023-05-20T09:59:26.620459Z",
          "iopub.status.idle": "2023-05-20T09:59:26.639563Z",
          "shell.execute_reply": "2023-05-20T09:59:26.638390Z",
          "shell.execute_reply.started": "2023-05-20T09:59:26.620820Z"
        },
        "id": "X0HodJ4KlCb2",
        "outputId": "10bc981b-eb17-4d70-ddbb-c1c45226be65",
        "trusted": true
      },
      "outputs": [
        {
          "data": {
            "text/plain": [
              "array([4, 4, 0, ..., 1, 1, 1])"
            ]
          },
          "execution_count": 64,
          "metadata": {},
          "output_type": "execute_result"
        }
      ],
      "source": [
        "#Encoding the target outputs to integers\n",
        "\n",
        "label_encoder = preprocessing.LabelEncoder()\n",
        "\n",
        "X_final=np.array(embedded_docs) #input to array\n",
        "y = label_encoder.fit_transform(y)\n",
        "y_final=np.array(y)\n",
        "y_final"
      ]
    },
    {
      "cell_type": "code",
      "execution_count": 65,
      "metadata": {
        "colab": {
          "base_uri": "https://localhost:8080/"
        },
        "execution": {
          "iopub.execute_input": "2023-05-20T09:59:26.641576Z",
          "iopub.status.busy": "2023-05-20T09:59:26.641076Z",
          "iopub.status.idle": "2023-05-20T09:59:26.649078Z",
          "shell.execute_reply": "2023-05-20T09:59:26.647756Z",
          "shell.execute_reply.started": "2023-05-20T09:59:26.641526Z"
        },
        "id": "6U5FPsm7lCb3",
        "outputId": "32db6f9b-9920-4b20-843f-36fe0fe966b4",
        "trusted": true
      },
      "outputs": [
        {
          "data": {
            "text/plain": [
              "((21405, 35), (21405,))"
            ]
          },
          "execution_count": 65,
          "metadata": {},
          "output_type": "execute_result"
        }
      ],
      "source": [
        "X_final.shape,y_final.shape"
      ]
    },
    {
      "cell_type": "code",
      "execution_count": 66,
      "metadata": {
        "id": "wbz-EguVKkPn"
      },
      "outputs": [],
      "source": [
        "# X_final.shape,y_final.shape"
      ]
    },
    {
      "cell_type": "code",
      "execution_count": 67,
      "metadata": {
        "execution": {
          "iopub.execute_input": "2023-05-20T09:59:26.651285Z",
          "iopub.status.busy": "2023-05-20T09:59:26.650820Z",
          "iopub.status.idle": "2023-05-20T09:59:26.667091Z",
          "shell.execute_reply": "2023-05-20T09:59:26.665786Z",
          "shell.execute_reply.started": "2023-05-20T09:59:26.651237Z"
        },
        "id": "qJk0sfrdlCb7",
        "trusted": true
      },
      "outputs": [],
      "source": [
        "#Train-Test split\n",
        "X_train, X_test, y_train, y_test = train_test_split(X_final, y_final, \n",
        "                                                    test_size=0.2, random_state=42) \n",
        "#Train-Validation split\n",
        "X_train, X_val, y_train, y_val = train_test_split(X_train, y_train, \n",
        "                                                  test_size=0.1, random_state=21) "
      ]
    },
    {
      "cell_type": "markdown",
      "metadata": {
        "id": "I9rP7R_hlCb8"
      },
      "source": [
        "# Create and train model"
      ]
    },
    {
      "cell_type": "code",
      "execution_count": 68,
      "metadata": {
        "colab": {
          "base_uri": "https://localhost:8080/"
        },
        "execution": {
          "iopub.execute_input": "2023-05-20T09:59:26.669280Z",
          "iopub.status.busy": "2023-05-20T09:59:26.668735Z",
          "iopub.status.idle": "2023-05-20T09:59:27.399350Z",
          "shell.execute_reply": "2023-05-20T09:59:27.398529Z",
          "shell.execute_reply.started": "2023-05-20T09:59:26.669236Z"
        },
        "id": "7zPZIpzllCb9",
        "outputId": "fc47fa21-bc5a-4c92-ed2c-7e6415107435",
        "trusted": true
      },
      "outputs": [
        {
          "name": "stderr",
          "output_type": "stream",
          "text": [
            "2023-05-21 16:30:41.348617: I tensorflow/core/common_runtime/executor.cc:1197] [/device:CPU:0] (DEBUG INFO) Executor start aborting (this does not indicate an error and you can ignore this message): INVALID_ARGUMENT: You must feed a value for placeholder tensor 'gradients/split_2_grad/concat/split_2/split_dim' with dtype int32\n",
            "\t [[{{node gradients/split_2_grad/concat/split_2/split_dim}}]]\n",
            "2023-05-21 16:30:41.350997: I tensorflow/core/common_runtime/executor.cc:1197] [/device:CPU:0] (DEBUG INFO) Executor start aborting (this does not indicate an error and you can ignore this message): INVALID_ARGUMENT: You must feed a value for placeholder tensor 'gradients/split_grad/concat/split/split_dim' with dtype int32\n",
            "\t [[{{node gradients/split_grad/concat/split/split_dim}}]]\n",
            "2023-05-21 16:30:41.352492: I tensorflow/core/common_runtime/executor.cc:1197] [/device:CPU:0] (DEBUG INFO) Executor start aborting (this does not indicate an error and you can ignore this message): INVALID_ARGUMENT: You must feed a value for placeholder tensor 'gradients/split_1_grad/concat/split_1/split_dim' with dtype int32\n",
            "\t [[{{node gradients/split_1_grad/concat/split_1/split_dim}}]]\n",
            "2023-05-21 16:30:41.484768: I tensorflow/core/common_runtime/executor.cc:1197] [/device:CPU:0] (DEBUG INFO) Executor start aborting (this does not indicate an error and you can ignore this message): INVALID_ARGUMENT: You must feed a value for placeholder tensor 'gradients/ReverseV2_grad/ReverseV2/ReverseV2/axis' with dtype int32 and shape [1]\n",
            "\t [[{{node gradients/ReverseV2_grad/ReverseV2/ReverseV2/axis}}]]\n",
            "2023-05-21 16:30:41.541351: I tensorflow/core/common_runtime/executor.cc:1197] [/device:CPU:0] (DEBUG INFO) Executor start aborting (this does not indicate an error and you can ignore this message): INVALID_ARGUMENT: You must feed a value for placeholder tensor 'gradients/split_2_grad/concat/split_2/split_dim' with dtype int32\n",
            "\t [[{{node gradients/split_2_grad/concat/split_2/split_dim}}]]\n",
            "2023-05-21 16:30:41.542516: I tensorflow/core/common_runtime/executor.cc:1197] [/device:CPU:0] (DEBUG INFO) Executor start aborting (this does not indicate an error and you can ignore this message): INVALID_ARGUMENT: You must feed a value for placeholder tensor 'gradients/split_grad/concat/split/split_dim' with dtype int32\n",
            "\t [[{{node gradients/split_grad/concat/split/split_dim}}]]\n",
            "2023-05-21 16:30:41.543587: I tensorflow/core/common_runtime/executor.cc:1197] [/device:CPU:0] (DEBUG INFO) Executor start aborting (this does not indicate an error and you can ignore this message): INVALID_ARGUMENT: You must feed a value for placeholder tensor 'gradients/split_1_grad/concat/split_1/split_dim' with dtype int32\n",
            "\t [[{{node gradients/split_1_grad/concat/split_1/split_dim}}]]\n"
          ]
        },
        {
          "name": "stdout",
          "output_type": "stream",
          "text": [
            "Model: \"sequential_1\"\n",
            "_________________________________________________________________\n",
            " Layer (type)                Output Shape              Param #   \n",
            "=================================================================\n",
            " embedding_1 (Embedding)     (None, None, 100)         1000000   \n",
            "                                                                 \n",
            " dropout_3 (Dropout)         (None, None, 100)         0         \n",
            "                                                                 \n",
            " bidirectional_1 (Bidirectio  (None, 128)              84480     \n",
            " nal)                                                            \n",
            "                                                                 \n",
            " dropout_4 (Dropout)         (None, 128)               0         \n",
            "                                                                 \n",
            " dense_2 (Dense)             (None, 64)                8256      \n",
            "                                                                 \n",
            " dropout_5 (Dropout)         (None, 64)                0         \n",
            "                                                                 \n",
            " dense_3 (Dense)             (None, 6)                 390       \n",
            "                                                                 \n",
            "=================================================================\n",
            "Total params: 1,093,126\n",
            "Trainable params: 1,093,126\n",
            "Non-trainable params: 0\n",
            "_________________________________________________________________\n"
          ]
        }
      ],
      "source": [
        "# Creating model\n",
        "model=Sequential()\n",
        "model.add(Embedding(voc_size, embed_size, weights=[embedding_matrix]))\n",
        "model.add(Dropout(0.3))\n",
        "model.add(Bidirectional(LSTM(64)))\n",
        "model.add(Dropout(0.3))\n",
        "model.add(Dense(64, activation='relu',kernel_regularizer=tf.keras.regularizers.l1(0.01))) #L1 regularization\n",
        "model.add(Dropout(0.3))\n",
        "model.add(Dense(6,activation='softmax'))\n",
        "model.compile(loss='sparse_categorical_crossentropy',optimizer= tf.keras.optimizers.Adam(learning_rate=0.001),\n",
        "              metrics=['accuracy'])\n",
        "model.summary()"
      ]
    },
    {
      "cell_type": "code",
      "execution_count": 69,
      "metadata": {
        "colab": {
          "base_uri": "https://localhost:8080/"
        },
        "execution": {
          "iopub.execute_input": "2023-05-20T09:59:27.401230Z",
          "iopub.status.busy": "2023-05-20T09:59:27.400708Z",
          "iopub.status.idle": "2023-05-20T10:09:23.772878Z",
          "shell.execute_reply": "2023-05-20T10:09:23.771676Z",
          "shell.execute_reply.started": "2023-05-20T09:59:27.401194Z"
        },
        "id": "oUU5LocrlCb_",
        "outputId": "7f30824a-d3df-4bd5-f61a-c47811b0103c",
        "trusted": true
      },
      "outputs": [
        {
          "name": "stdout",
          "output_type": "stream",
          "text": [
            "Epoch 1/40\n"
          ]
        },
        {
          "name": "stderr",
          "output_type": "stream",
          "text": [
            "2023-05-21 16:32:31.106806: I tensorflow/core/common_runtime/executor.cc:1197] [/device:CPU:0] (DEBUG INFO) Executor start aborting (this does not indicate an error and you can ignore this message): INVALID_ARGUMENT: You must feed a value for placeholder tensor 'gradients/split_2_grad/concat/split_2/split_dim' with dtype int32\n",
            "\t [[{{node gradients/split_2_grad/concat/split_2/split_dim}}]]\n",
            "2023-05-21 16:32:31.108817: I tensorflow/core/common_runtime/executor.cc:1197] [/device:CPU:0] (DEBUG INFO) Executor start aborting (this does not indicate an error and you can ignore this message): INVALID_ARGUMENT: You must feed a value for placeholder tensor 'gradients/split_grad/concat/split/split_dim' with dtype int32\n",
            "\t [[{{node gradients/split_grad/concat/split/split_dim}}]]\n",
            "2023-05-21 16:32:31.110199: I tensorflow/core/common_runtime/executor.cc:1197] [/device:CPU:0] (DEBUG INFO) Executor start aborting (this does not indicate an error and you can ignore this message): INVALID_ARGUMENT: You must feed a value for placeholder tensor 'gradients/split_1_grad/concat/split_1/split_dim' with dtype int32\n",
            "\t [[{{node gradients/split_1_grad/concat/split_1/split_dim}}]]\n",
            "2023-05-21 16:32:31.269659: I tensorflow/core/common_runtime/executor.cc:1197] [/device:CPU:0] (DEBUG INFO) Executor start aborting (this does not indicate an error and you can ignore this message): INVALID_ARGUMENT: You must feed a value for placeholder tensor 'gradients/ReverseV2_grad/ReverseV2/ReverseV2/axis' with dtype int32 and shape [1]\n",
            "\t [[{{node gradients/ReverseV2_grad/ReverseV2/ReverseV2/axis}}]]\n",
            "2023-05-21 16:32:31.318542: I tensorflow/core/common_runtime/executor.cc:1197] [/device:CPU:0] (DEBUG INFO) Executor start aborting (this does not indicate an error and you can ignore this message): INVALID_ARGUMENT: You must feed a value for placeholder tensor 'gradients/split_2_grad/concat/split_2/split_dim' with dtype int32\n",
            "\t [[{{node gradients/split_2_grad/concat/split_2/split_dim}}]]\n",
            "2023-05-21 16:32:31.320160: I tensorflow/core/common_runtime/executor.cc:1197] [/device:CPU:0] (DEBUG INFO) Executor start aborting (this does not indicate an error and you can ignore this message): INVALID_ARGUMENT: You must feed a value for placeholder tensor 'gradients/split_grad/concat/split/split_dim' with dtype int32\n",
            "\t [[{{node gradients/split_grad/concat/split/split_dim}}]]\n",
            "2023-05-21 16:32:31.321939: I tensorflow/core/common_runtime/executor.cc:1197] [/device:CPU:0] (DEBUG INFO) Executor start aborting (this does not indicate an error and you can ignore this message): INVALID_ARGUMENT: You must feed a value for placeholder tensor 'gradients/split_1_grad/concat/split_1/split_dim' with dtype int32\n",
            "\t [[{{node gradients/split_1_grad/concat/split_1/split_dim}}]]\n",
            "2023-05-21 16:32:31.887191: I tensorflow/core/common_runtime/executor.cc:1197] [/device:CPU:0] (DEBUG INFO) Executor start aborting (this does not indicate an error and you can ignore this message): INVALID_ARGUMENT: You must feed a value for placeholder tensor 'gradients/ReverseV2_grad/ReverseV2/ReverseV2/axis' with dtype int32 and shape [1]\n",
            "\t [[{{node gradients/ReverseV2_grad/ReverseV2/ReverseV2/axis}}]]\n",
            "2023-05-21 16:32:32.367692: I tensorflow/core/common_runtime/executor.cc:1197] [/device:CPU:0] (DEBUG INFO) Executor start aborting (this does not indicate an error and you can ignore this message): INVALID_ARGUMENT: You must feed a value for placeholder tensor 'gradients/split_2_grad/concat/split_2/split_dim' with dtype int32\n",
            "\t [[{{node gradients/split_2_grad/concat/split_2/split_dim}}]]\n",
            "2023-05-21 16:32:32.371717: I tensorflow/core/common_runtime/executor.cc:1197] [/device:CPU:0] (DEBUG INFO) Executor start aborting (this does not indicate an error and you can ignore this message): INVALID_ARGUMENT: You must feed a value for placeholder tensor 'gradients/split_grad/concat/split/split_dim' with dtype int32\n",
            "\t [[{{node gradients/split_grad/concat/split/split_dim}}]]\n",
            "2023-05-21 16:32:32.377722: I tensorflow/core/common_runtime/executor.cc:1197] [/device:CPU:0] (DEBUG INFO) Executor start aborting (this does not indicate an error and you can ignore this message): INVALID_ARGUMENT: You must feed a value for placeholder tensor 'gradients/split_1_grad/concat/split_1/split_dim' with dtype int32\n",
            "\t [[{{node gradients/split_1_grad/concat/split_1/split_dim}}]]\n",
            "2023-05-21 16:32:32.859124: I tensorflow/core/common_runtime/executor.cc:1197] [/device:CPU:0] (DEBUG INFO) Executor start aborting (this does not indicate an error and you can ignore this message): INVALID_ARGUMENT: You must feed a value for placeholder tensor 'gradients/ReverseV2_grad/ReverseV2/ReverseV2/axis' with dtype int32 and shape [1]\n",
            "\t [[{{node gradients/ReverseV2_grad/ReverseV2/ReverseV2/axis}}]]\n",
            "2023-05-21 16:32:32.911182: I tensorflow/core/common_runtime/executor.cc:1197] [/device:CPU:0] (DEBUG INFO) Executor start aborting (this does not indicate an error and you can ignore this message): INVALID_ARGUMENT: You must feed a value for placeholder tensor 'gradients/split_2_grad/concat/split_2/split_dim' with dtype int32\n",
            "\t [[{{node gradients/split_2_grad/concat/split_2/split_dim}}]]\n",
            "2023-05-21 16:32:32.912730: I tensorflow/core/common_runtime/executor.cc:1197] [/device:CPU:0] (DEBUG INFO) Executor start aborting (this does not indicate an error and you can ignore this message): INVALID_ARGUMENT: You must feed a value for placeholder tensor 'gradients/split_grad/concat/split/split_dim' with dtype int32\n",
            "\t [[{{node gradients/split_grad/concat/split/split_dim}}]]\n",
            "2023-05-21 16:32:32.913901: I tensorflow/core/common_runtime/executor.cc:1197] [/device:CPU:0] (DEBUG INFO) Executor start aborting (this does not indicate an error and you can ignore this message): INVALID_ARGUMENT: You must feed a value for placeholder tensor 'gradients/split_1_grad/concat/split_1/split_dim' with dtype int32\n",
            "\t [[{{node gradients/split_1_grad/concat/split_1/split_dim}}]]\n",
            "2023-05-21 16:32:33.506255: I tensorflow/core/common_runtime/executor.cc:1197] [/device:CPU:0] (DEBUG INFO) Executor start aborting (this does not indicate an error and you can ignore this message): INVALID_ARGUMENT: You must feed a value for placeholder tensor 'gradients/ReverseV2_grad/ReverseV2/ReverseV2/axis' with dtype int32 and shape [1]\n",
            "\t [[{{node gradients/ReverseV2_grad/ReverseV2/ReverseV2/axis}}]]\n"
          ]
        },
        {
          "name": "stdout",
          "output_type": "stream",
          "text": [
            "241/241 [==============================] - ETA: 0s - loss: 3.5902 - accuracy: 0.3204"
          ]
        },
        {
          "name": "stderr",
          "output_type": "stream",
          "text": [
            "2023-05-21 16:32:42.970450: I tensorflow/core/common_runtime/executor.cc:1197] [/device:CPU:0] (DEBUG INFO) Executor start aborting (this does not indicate an error and you can ignore this message): INVALID_ARGUMENT: You must feed a value for placeholder tensor 'gradients/split_2_grad/concat/split_2/split_dim' with dtype int32\n",
            "\t [[{{node gradients/split_2_grad/concat/split_2/split_dim}}]]\n",
            "2023-05-21 16:32:42.972854: I tensorflow/core/common_runtime/executor.cc:1197] [/device:CPU:0] (DEBUG INFO) Executor start aborting (this does not indicate an error and you can ignore this message): INVALID_ARGUMENT: You must feed a value for placeholder tensor 'gradients/split_grad/concat/split/split_dim' with dtype int32\n",
            "\t [[{{node gradients/split_grad/concat/split/split_dim}}]]\n",
            "2023-05-21 16:32:42.974329: I tensorflow/core/common_runtime/executor.cc:1197] [/device:CPU:0] (DEBUG INFO) Executor start aborting (this does not indicate an error and you can ignore this message): INVALID_ARGUMENT: You must feed a value for placeholder tensor 'gradients/split_1_grad/concat/split_1/split_dim' with dtype int32\n",
            "\t [[{{node gradients/split_1_grad/concat/split_1/split_dim}}]]\n",
            "2023-05-21 16:32:43.088799: I tensorflow/core/common_runtime/executor.cc:1197] [/device:CPU:0] (DEBUG INFO) Executor start aborting (this does not indicate an error and you can ignore this message): INVALID_ARGUMENT: You must feed a value for placeholder tensor 'gradients/ReverseV2_grad/ReverseV2/ReverseV2/axis' with dtype int32 and shape [1]\n",
            "\t [[{{node gradients/ReverseV2_grad/ReverseV2/ReverseV2/axis}}]]\n",
            "2023-05-21 16:32:43.130782: I tensorflow/core/common_runtime/executor.cc:1197] [/device:CPU:0] (DEBUG INFO) Executor start aborting (this does not indicate an error and you can ignore this message): INVALID_ARGUMENT: You must feed a value for placeholder tensor 'gradients/split_2_grad/concat/split_2/split_dim' with dtype int32\n",
            "\t [[{{node gradients/split_2_grad/concat/split_2/split_dim}}]]\n",
            "2023-05-21 16:32:43.132030: I tensorflow/core/common_runtime/executor.cc:1197] [/device:CPU:0] (DEBUG INFO) Executor start aborting (this does not indicate an error and you can ignore this message): INVALID_ARGUMENT: You must feed a value for placeholder tensor 'gradients/split_grad/concat/split/split_dim' with dtype int32\n",
            "\t [[{{node gradients/split_grad/concat/split/split_dim}}]]\n",
            "2023-05-21 16:32:43.132920: I tensorflow/core/common_runtime/executor.cc:1197] [/device:CPU:0] (DEBUG INFO) Executor start aborting (this does not indicate an error and you can ignore this message): INVALID_ARGUMENT: You must feed a value for placeholder tensor 'gradients/split_1_grad/concat/split_1/split_dim' with dtype int32\n",
            "\t [[{{node gradients/split_1_grad/concat/split_1/split_dim}}]]\n"
          ]
        },
        {
          "name": "stdout",
          "output_type": "stream",
          "text": [
            "\n",
            "Epoch 1: val_loss improved from inf to 1.68695, saving model to weights.h5\n",
            "241/241 [==============================] - 13s 38ms/step - loss: 3.5902 - accuracy: 0.3204 - val_loss: 1.6870 - val_accuracy: 0.2767\n",
            "Epoch 2/40\n",
            "240/241 [============================>.] - ETA: 0s - loss: 1.6294 - accuracy: 0.3261\n",
            "Epoch 2: val_loss improved from 1.68695 to 1.64050, saving model to weights.h5\n",
            "241/241 [==============================] - 9s 35ms/step - loss: 1.6297 - accuracy: 0.3261 - val_loss: 1.6405 - val_accuracy: 0.3252\n",
            "Epoch 3/40\n",
            "240/241 [============================>.] - ETA: 0s - loss: 1.6101 - accuracy: 0.3296\n",
            "Epoch 3: val_loss improved from 1.64050 to 1.63323, saving model to weights.h5\n",
            "241/241 [==============================] - 8s 33ms/step - loss: 1.6099 - accuracy: 0.3296 - val_loss: 1.6332 - val_accuracy: 0.3252\n",
            "Epoch 4/40\n",
            "241/241 [==============================] - ETA: 0s - loss: 1.6045 - accuracy: 0.3288\n",
            "Epoch 4: val_loss improved from 1.63323 to 1.62821, saving model to weights.h5\n",
            "241/241 [==============================] - 10s 41ms/step - loss: 1.6045 - accuracy: 0.3288 - val_loss: 1.6282 - val_accuracy: 0.3252\n",
            "Epoch 5/40\n",
            "241/241 [==============================] - ETA: 0s - loss: 1.6012 - accuracy: 0.3324\n",
            "Epoch 5: val_loss improved from 1.62821 to 1.62768, saving model to weights.h5\n",
            "241/241 [==============================] - 14s 57ms/step - loss: 1.6012 - accuracy: 0.3324 - val_loss: 1.6277 - val_accuracy: 0.3252\n",
            "Epoch 6/40\n",
            "240/241 [============================>.] - ETA: 0s - loss: 1.6018 - accuracy: 0.3281\n",
            "Epoch 6: val_loss improved from 1.62768 to 1.62594, saving model to weights.h5\n",
            "241/241 [==============================] - 13s 52ms/step - loss: 1.6014 - accuracy: 0.3285 - val_loss: 1.6259 - val_accuracy: 0.3252\n",
            "Epoch 7/40\n",
            "240/241 [============================>.] - ETA: 0s - loss: 1.6005 - accuracy: 0.3305\n",
            "Epoch 7: val_loss improved from 1.62594 to 1.62449, saving model to weights.h5\n",
            "241/241 [==============================] - 11s 47ms/step - loss: 1.6003 - accuracy: 0.3305 - val_loss: 1.6245 - val_accuracy: 0.3252\n",
            "Epoch 8/40\n",
            "241/241 [==============================] - ETA: 0s - loss: 1.5703 - accuracy: 0.3316\n",
            "Epoch 8: val_loss improved from 1.62449 to 1.47578, saving model to weights.h5\n",
            "241/241 [==============================] - 9s 39ms/step - loss: 1.5703 - accuracy: 0.3316 - val_loss: 1.4758 - val_accuracy: 0.3252\n",
            "Epoch 9/40\n",
            "240/241 [============================>.] - ETA: 0s - loss: 1.3983 - accuracy: 0.3602\n",
            "Epoch 9: val_loss improved from 1.47578 to 1.34573, saving model to weights.h5\n",
            "241/241 [==============================] - 9s 37ms/step - loss: 1.3982 - accuracy: 0.3605 - val_loss: 1.3457 - val_accuracy: 0.4133\n",
            "Epoch 10/40\n",
            "240/241 [============================>.] - ETA: 0s - loss: 1.2904 - accuracy: 0.4214\n",
            "Epoch 10: val_loss improved from 1.34573 to 1.28641, saving model to weights.h5\n",
            "241/241 [==============================] - 9s 37ms/step - loss: 1.2898 - accuracy: 0.4215 - val_loss: 1.2864 - val_accuracy: 0.4302\n",
            "Epoch 11/40\n",
            "241/241 [==============================] - ETA: 0s - loss: 1.2354 - accuracy: 0.4309\n",
            "Epoch 11: val_loss did not improve from 1.28641\n",
            "241/241 [==============================] - 9s 37ms/step - loss: 1.2354 - accuracy: 0.4309 - val_loss: 1.2871 - val_accuracy: 0.4250\n",
            "Epoch 12/40\n",
            "241/241 [==============================] - ETA: 0s - loss: 1.1917 - accuracy: 0.4408\n",
            "Epoch 12: val_loss improved from 1.28641 to 1.24039, saving model to weights.h5\n",
            "241/241 [==============================] - 12s 51ms/step - loss: 1.1917 - accuracy: 0.4408 - val_loss: 1.2404 - val_accuracy: 0.4308\n",
            "Epoch 13/40\n",
            "241/241 [==============================] - ETA: 0s - loss: 1.1656 - accuracy: 0.4454\n",
            "Epoch 13: val_loss improved from 1.24039 to 1.21767, saving model to weights.h5\n",
            "241/241 [==============================] - 11s 47ms/step - loss: 1.1656 - accuracy: 0.4454 - val_loss: 1.2177 - val_accuracy: 0.4197\n",
            "Epoch 14/40\n",
            "240/241 [============================>.] - ETA: 0s - loss: 1.1413 - accuracy: 0.4498\n",
            "Epoch 14: val_loss improved from 1.21767 to 1.20062, saving model to weights.h5\n",
            "241/241 [==============================] - 11s 46ms/step - loss: 1.1411 - accuracy: 0.4499 - val_loss: 1.2006 - val_accuracy: 0.4390\n",
            "Epoch 15/40\n",
            "240/241 [============================>.] - ETA: 0s - loss: 1.1167 - accuracy: 0.4521\n",
            "Epoch 15: val_loss improved from 1.20062 to 1.16822, saving model to weights.h5\n",
            "241/241 [==============================] - 10s 39ms/step - loss: 1.1170 - accuracy: 0.4521 - val_loss: 1.1682 - val_accuracy: 0.4448\n",
            "Epoch 16/40\n",
            "241/241 [==============================] - ETA: 0s - loss: 1.0899 - accuracy: 0.4652\n",
            "Epoch 16: val_loss improved from 1.16822 to 1.15052, saving model to weights.h5\n",
            "241/241 [==============================] - 11s 46ms/step - loss: 1.0899 - accuracy: 0.4652 - val_loss: 1.1505 - val_accuracy: 0.4705\n",
            "Epoch 17/40\n",
            "241/241 [==============================] - ETA: 0s - loss: 1.0645 - accuracy: 0.4841\n",
            "Epoch 17: val_loss improved from 1.15052 to 1.12788, saving model to weights.h5\n",
            "241/241 [==============================] - 9s 38ms/step - loss: 1.0645 - accuracy: 0.4841 - val_loss: 1.1279 - val_accuracy: 0.4869\n",
            "Epoch 18/40\n",
            "240/241 [============================>.] - ETA: 0s - loss: 1.0316 - accuracy: 0.4977\n",
            "Epoch 18: val_loss improved from 1.12788 to 1.11090, saving model to weights.h5\n",
            "241/241 [==============================] - 9s 39ms/step - loss: 1.0314 - accuracy: 0.4983 - val_loss: 1.1109 - val_accuracy: 0.4915\n",
            "Epoch 19/40\n",
            "240/241 [============================>.] - ETA: 0s - loss: 1.0069 - accuracy: 0.5151\n",
            "Epoch 19: val_loss improved from 1.11090 to 1.06800, saving model to weights.h5\n",
            "241/241 [==============================] - 10s 42ms/step - loss: 1.0065 - accuracy: 0.5150 - val_loss: 1.0680 - val_accuracy: 0.5213\n",
            "Epoch 20/40\n",
            "240/241 [============================>.] - ETA: 0s - loss: 0.9658 - accuracy: 0.5507\n",
            "Epoch 20: val_loss improved from 1.06800 to 0.99474, saving model to weights.h5\n",
            "241/241 [==============================] - 11s 46ms/step - loss: 0.9658 - accuracy: 0.5506 - val_loss: 0.9947 - val_accuracy: 0.6141\n",
            "Epoch 21/40\n",
            "241/241 [==============================] - ETA: 0s - loss: 0.8458 - accuracy: 0.6684\n",
            "Epoch 21: val_loss improved from 0.99474 to 0.84331, saving model to weights.h5\n",
            "241/241 [==============================] - 10s 43ms/step - loss: 0.8458 - accuracy: 0.6684 - val_loss: 0.8433 - val_accuracy: 0.7215\n",
            "Epoch 22/40\n",
            "240/241 [============================>.] - ETA: 0s - loss: 0.7418 - accuracy: 0.7266\n",
            "Epoch 22: val_loss improved from 0.84331 to 0.75831, saving model to weights.h5\n",
            "241/241 [==============================] - 10s 42ms/step - loss: 0.7415 - accuracy: 0.7268 - val_loss: 0.7583 - val_accuracy: 0.7513\n",
            "Epoch 23/40\n",
            "241/241 [==============================] - ETA: 0s - loss: 0.6759 - accuracy: 0.7495\n",
            "Epoch 23: val_loss improved from 0.75831 to 0.73188, saving model to weights.h5\n",
            "241/241 [==============================] - 10s 40ms/step - loss: 0.6759 - accuracy: 0.7495 - val_loss: 0.7319 - val_accuracy: 0.7595\n",
            "Epoch 24/40\n",
            "241/241 [==============================] - ETA: 0s - loss: 0.6373 - accuracy: 0.7632\n",
            "Epoch 24: val_loss improved from 0.73188 to 0.70464, saving model to weights.h5\n",
            "241/241 [==============================] - 11s 47ms/step - loss: 0.6373 - accuracy: 0.7632 - val_loss: 0.7046 - val_accuracy: 0.7764\n",
            "Epoch 25/40\n",
            "240/241 [============================>.] - ETA: 0s - loss: 0.6077 - accuracy: 0.7889\n",
            "Epoch 25: val_loss improved from 0.70464 to 0.68955, saving model to weights.h5\n",
            "241/241 [==============================] - 11s 46ms/step - loss: 0.6085 - accuracy: 0.7887 - val_loss: 0.6896 - val_accuracy: 0.7735\n",
            "Epoch 26/40\n",
            "241/241 [==============================] - ETA: 0s - loss: 0.5817 - accuracy: 0.8018\n",
            "Epoch 26: val_loss improved from 0.68955 to 0.67606, saving model to weights.h5\n",
            "241/241 [==============================] - 11s 46ms/step - loss: 0.5817 - accuracy: 0.8018 - val_loss: 0.6761 - val_accuracy: 0.7869\n",
            "Epoch 27/40\n",
            "241/241 [==============================] - ETA: 0s - loss: 0.5598 - accuracy: 0.8112\n",
            "Epoch 27: val_loss did not improve from 0.67606\n",
            "241/241 [==============================] - 12s 50ms/step - loss: 0.5598 - accuracy: 0.8112 - val_loss: 0.6801 - val_accuracy: 0.7834\n",
            "Epoch 28/40\n",
            "240/241 [============================>.] - ETA: 0s - loss: 0.5469 - accuracy: 0.8156\n",
            "Epoch 28: val_loss improved from 0.67606 to 0.66590, saving model to weights.h5\n",
            "241/241 [==============================] - 11s 47ms/step - loss: 0.5470 - accuracy: 0.8153 - val_loss: 0.6659 - val_accuracy: 0.7858\n",
            "Epoch 29/40\n",
            "241/241 [==============================] - ETA: 0s - loss: 0.5245 - accuracy: 0.8189\n",
            "Epoch 29: val_loss improved from 0.66590 to 0.66082, saving model to weights.h5\n",
            "241/241 [==============================] - 11s 46ms/step - loss: 0.5245 - accuracy: 0.8189 - val_loss: 0.6608 - val_accuracy: 0.7904\n",
            "Epoch 30/40\n",
            "241/241 [==============================] - ETA: 0s - loss: 0.5176 - accuracy: 0.8213\n",
            "Epoch 30: val_loss did not improve from 0.66082\n",
            "241/241 [==============================] - 15s 63ms/step - loss: 0.5176 - accuracy: 0.8213 - val_loss: 0.6808 - val_accuracy: 0.7858\n",
            "Epoch 31/40\n",
            "240/241 [============================>.] - ETA: 0s - loss: 0.5029 - accuracy: 0.8257\n",
            "Epoch 31: val_loss improved from 0.66082 to 0.65771, saving model to weights.h5\n",
            "241/241 [==============================] - 13s 53ms/step - loss: 0.5029 - accuracy: 0.8258 - val_loss: 0.6577 - val_accuracy: 0.7875\n",
            "Epoch 32/40\n",
            "240/241 [============================>.] - ETA: 0s - loss: 0.4986 - accuracy: 0.8307\n",
            "Epoch 32: val_loss did not improve from 0.65771\n",
            "241/241 [==============================] - 16s 66ms/step - loss: 0.4991 - accuracy: 0.8306 - val_loss: 0.6790 - val_accuracy: 0.7881\n",
            "Epoch 33/40\n",
            "240/241 [============================>.] - ETA: 0s - loss: 0.4837 - accuracy: 0.8389\n",
            "Epoch 33: val_loss did not improve from 0.65771\n",
            "241/241 [==============================] - 12s 48ms/step - loss: 0.4834 - accuracy: 0.8389 - val_loss: 0.6724 - val_accuracy: 0.8027\n",
            "Epoch 34/40\n",
            "240/241 [============================>.] - ETA: 0s - loss: 0.4795 - accuracy: 0.8393\n",
            "Epoch 34: val_loss did not improve from 0.65771\n",
            "241/241 [==============================] - 11s 47ms/step - loss: 0.4795 - accuracy: 0.8394 - val_loss: 0.7145 - val_accuracy: 0.7998\n",
            "Epoch 35/40\n",
            "241/241 [==============================] - ETA: 0s - loss: 0.4717 - accuracy: 0.8504\n",
            "Epoch 35: val_loss did not improve from 0.65771\n",
            "241/241 [==============================] - 11s 47ms/step - loss: 0.4717 - accuracy: 0.8504 - val_loss: 0.6981 - val_accuracy: 0.8295\n",
            "Epoch 36/40\n",
            "241/241 [==============================] - ETA: 0s - loss: 0.4441 - accuracy: 0.8704\n",
            "Epoch 36: val_loss did not improve from 0.65771\n",
            "241/241 [==============================] - 11s 47ms/step - loss: 0.4441 - accuracy: 0.8704 - val_loss: 0.6594 - val_accuracy: 0.8354\n",
            "Epoch 37/40\n",
            "240/241 [============================>.] - ETA: 0s - loss: 0.4214 - accuracy: 0.8936\n",
            "Epoch 37: val_loss improved from 0.65771 to 0.63329, saving model to weights.h5\n",
            "241/241 [==============================] - 11s 47ms/step - loss: 0.4215 - accuracy: 0.8936 - val_loss: 0.6333 - val_accuracy: 0.8529\n",
            "Epoch 38/40\n",
            "241/241 [==============================] - ETA: 0s - loss: 0.3965 - accuracy: 0.9042\n",
            "Epoch 38: val_loss improved from 0.63329 to 0.61591, saving model to weights.h5\n",
            "241/241 [==============================] - 12s 48ms/step - loss: 0.3965 - accuracy: 0.9042 - val_loss: 0.6159 - val_accuracy: 0.8646\n",
            "Epoch 39/40\n",
            "240/241 [============================>.] - ETA: 0s - loss: 0.3824 - accuracy: 0.9096\n",
            "Epoch 39: val_loss improved from 0.61591 to 0.60107, saving model to weights.h5\n",
            "241/241 [==============================] - 11s 47ms/step - loss: 0.3822 - accuracy: 0.9097 - val_loss: 0.6011 - val_accuracy: 0.8663\n",
            "Epoch 40/40\n",
            "241/241 [==============================] - ETA: 0s - loss: 0.3633 - accuracy: 0.9177\n",
            "Epoch 40: val_loss did not improve from 0.60107\n",
            "241/241 [==============================] - 11s 48ms/step - loss: 0.3633 - accuracy: 0.9177 - val_loss: 0.6172 - val_accuracy: 0.8722\n"
          ]
        }
      ],
      "source": [
        "model_save = ModelCheckpoint('weights.h5', save_best_only = True, save_weights_only = True, monitor = 'val_loss', \n",
        "                             mode = 'min', verbose = 1)\n",
        "history = model.fit(X_train,y_train,validation_data=(X_val,y_val),epochs=40,batch_size=64,callbacks = [model_save])"
      ]
    },
    {
      "cell_type": "code",
      "execution_count": 70,
      "metadata": {},
      "outputs": [],
      "source": [
        "model.save_weights('weights.h5')"
      ]
    },
    {
      "cell_type": "code",
      "execution_count": 74,
      "metadata": {
        "id": "OFRxbEJVsALe"
      },
      "outputs": [],
      "source": [
        "model.save('final_85.h5')"
      ]
    },
    {
      "cell_type": "code",
      "execution_count": 26,
      "metadata": {
        "id": "sDz9i_GFEKIT"
      },
      "outputs": [],
      "source": [
        "model.load_weights('weights.h5')"
      ]
    },
    {
      "cell_type": "code",
      "execution_count": 39,
      "metadata": {
        "id": "HOk7-wv9nHXD"
      },
      "outputs": [
        {
          "name": "stderr",
          "output_type": "stream",
          "text": [
            "2023-05-21 16:29:45.829060: I tensorflow/core/common_runtime/executor.cc:1197] [/device:CPU:0] (DEBUG INFO) Executor start aborting (this does not indicate an error and you can ignore this message): INVALID_ARGUMENT: You must feed a value for placeholder tensor 'gradients/split_2_grad/concat/split_2/split_dim' with dtype int32\n",
            "\t [[{{node gradients/split_2_grad/concat/split_2/split_dim}}]]\n",
            "2023-05-21 16:29:45.830699: I tensorflow/core/common_runtime/executor.cc:1197] [/device:CPU:0] (DEBUG INFO) Executor start aborting (this does not indicate an error and you can ignore this message): INVALID_ARGUMENT: You must feed a value for placeholder tensor 'gradients/split_grad/concat/split/split_dim' with dtype int32\n",
            "\t [[{{node gradients/split_grad/concat/split/split_dim}}]]\n",
            "2023-05-21 16:29:45.831948: I tensorflow/core/common_runtime/executor.cc:1197] [/device:CPU:0] (DEBUG INFO) Executor start aborting (this does not indicate an error and you can ignore this message): INVALID_ARGUMENT: You must feed a value for placeholder tensor 'gradients/split_1_grad/concat/split_1/split_dim' with dtype int32\n",
            "\t [[{{node gradients/split_1_grad/concat/split_1/split_dim}}]]\n",
            "2023-05-21 16:29:45.948412: I tensorflow/core/common_runtime/executor.cc:1197] [/device:CPU:0] (DEBUG INFO) Executor start aborting (this does not indicate an error and you can ignore this message): INVALID_ARGUMENT: You must feed a value for placeholder tensor 'gradients/ReverseV2_grad/ReverseV2/ReverseV2/axis' with dtype int32 and shape [1]\n",
            "\t [[{{node gradients/ReverseV2_grad/ReverseV2/ReverseV2/axis}}]]\n",
            "2023-05-21 16:29:45.990531: I tensorflow/core/common_runtime/executor.cc:1197] [/device:CPU:0] (DEBUG INFO) Executor start aborting (this does not indicate an error and you can ignore this message): INVALID_ARGUMENT: You must feed a value for placeholder tensor 'gradients/split_2_grad/concat/split_2/split_dim' with dtype int32\n",
            "\t [[{{node gradients/split_2_grad/concat/split_2/split_dim}}]]\n",
            "2023-05-21 16:29:45.991895: I tensorflow/core/common_runtime/executor.cc:1197] [/device:CPU:0] (DEBUG INFO) Executor start aborting (this does not indicate an error and you can ignore this message): INVALID_ARGUMENT: You must feed a value for placeholder tensor 'gradients/split_grad/concat/split/split_dim' with dtype int32\n",
            "\t [[{{node gradients/split_grad/concat/split/split_dim}}]]\n",
            "2023-05-21 16:29:45.993047: I tensorflow/core/common_runtime/executor.cc:1197] [/device:CPU:0] (DEBUG INFO) Executor start aborting (this does not indicate an error and you can ignore this message): INVALID_ARGUMENT: You must feed a value for placeholder tensor 'gradients/split_1_grad/concat/split_1/split_dim' with dtype int32\n",
            "\t [[{{node gradients/split_1_grad/concat/split_1/split_dim}}]]\n"
          ]
        }
      ],
      "source": [
        "# from tensorflow.keras.models import load_model\n",
        "# model = load_model('final_85.h5')\n"
      ]
    },
    {
      "cell_type": "markdown",
      "metadata": {
        "id": "02jqaBPqlCcA"
      },
      "source": [
        "# Analysis and visualization of output"
      ]
    },
    {
      "cell_type": "code",
      "execution_count": 71,
      "metadata": {
        "execution": {
          "iopub.execute_input": "2023-05-20T10:09:23.775444Z",
          "iopub.status.busy": "2023-05-20T10:09:23.774979Z",
          "iopub.status.idle": "2023-05-20T10:09:24.192821Z",
          "shell.execute_reply": "2023-05-20T10:09:24.191645Z",
          "shell.execute_reply.started": "2023-05-20T10:09:23.775394Z"
        },
        "id": "JHnSwfJilCcC",
        "trusted": true
      },
      "outputs": [
        {
          "name": "stdout",
          "output_type": "stream",
          "text": [
            "dict_keys(['loss', 'accuracy', 'val_loss', 'val_accuracy'])\n"
          ]
        },
        {
          "data": {
            "image/png": "[encoded data removed]",
            "text/plain": [
              "<Figure size 640x480 with 1 Axes>"
            ]
          },
          "metadata": {},
          "output_type": "display_data"
        },
        {
          "data": {
            "image/png": "[encoded data removed]",
            "text/plain": [
              "<Figure size 640x480 with 1 Axes>"
            ]
          },
          "metadata": {},
          "output_type": "display_data"
        }
      ],
      "source": [
        "print(history.history.keys())\n",
        "#  \"Accuracy\"\n",
        "plt.plot(history.history['accuracy'])\n",
        "plt.plot(history.history['val_accuracy'])\n",
        "plt.title('model accuracy')\n",
        "plt.ylabel('accuracy')\n",
        "plt.xlabel('epoch')\n",
        "plt.legend(['train', 'validation'], loc='upper left')\n",
        "plt.show()\n",
        "# \"Loss\"\n",
        "plt.plot(history.history['loss'])\n",
        "plt.plot(history.history['val_loss'])\n",
        "plt.title('model loss')\n",
        "plt.ylabel('loss')\n",
        "plt.xlabel('epoch')\n",
        "plt.legend(['train', 'validation'], loc='upper left')\n",
        "plt.show()"
      ]
    },
    {
      "cell_type": "code",
      "execution_count": 40,
      "metadata": {
        "execution": {
          "iopub.execute_input": "2023-05-20T10:09:24.194864Z",
          "iopub.status.busy": "2023-05-20T10:09:24.194475Z",
          "iopub.status.idle": "2023-05-20T10:09:24.216702Z",
          "shell.execute_reply": "2023-05-20T10:09:24.215649Z",
          "shell.execute_reply.started": "2023-05-20T10:09:24.194825Z"
        },
        "id": "jV5LLEOOlCcD",
        "trusted": true
      },
      "outputs": [],
      "source": [
        "#Load the best weights\n",
        "model.load_weights('/home/devraj4522/Desktop/ML Model/weights.h5')"
      ]
    },
    {
      "cell_type": "code",
      "execution_count": 73,
      "metadata": {
        "execution": {
          "iopub.execute_input": "2023-05-20T10:09:40.302034Z",
          "iopub.status.busy": "2023-05-20T10:09:40.301389Z",
          "iopub.status.idle": "2023-05-20T10:09:41.633835Z",
          "shell.execute_reply": "2023-05-20T10:09:41.633021Z",
          "shell.execute_reply.started": "2023-05-20T10:09:40.301990Z"
        },
        "id": "n7Grs9jClCcE",
        "trusted": true
      },
      "outputs": [
        {
          "name": "stderr",
          "output_type": "stream",
          "text": [
            "2023-05-21 16:40:36.174455: I tensorflow/core/common_runtime/executor.cc:1197] [/device:CPU:0] (DEBUG INFO) Executor start aborting (this does not indicate an error and you can ignore this message): INVALID_ARGUMENT: You must feed a value for placeholder tensor 'gradients/split_2_grad/concat/split_2/split_dim' with dtype int32\n",
            "\t [[{{node gradients/split_2_grad/concat/split_2/split_dim}}]]\n",
            "2023-05-21 16:40:36.175716: I tensorflow/core/common_runtime/executor.cc:1197] [/device:CPU:0] (DEBUG INFO) Executor start aborting (this does not indicate an error and you can ignore this message): INVALID_ARGUMENT: You must feed a value for placeholder tensor 'gradients/split_grad/concat/split/split_dim' with dtype int32\n",
            "\t [[{{node gradients/split_grad/concat/split/split_dim}}]]\n",
            "2023-05-21 16:40:36.176735: I tensorflow/core/common_runtime/executor.cc:1197] [/device:CPU:0] (DEBUG INFO) Executor start aborting (this does not indicate an error and you can ignore this message): INVALID_ARGUMENT: You must feed a value for placeholder tensor 'gradients/split_1_grad/concat/split_1/split_dim' with dtype int32\n",
            "\t [[{{node gradients/split_1_grad/concat/split_1/split_dim}}]]\n",
            "2023-05-21 16:40:36.319947: I tensorflow/core/common_runtime/executor.cc:1197] [/device:CPU:0] (DEBUG INFO) Executor start aborting (this does not indicate an error and you can ignore this message): INVALID_ARGUMENT: You must feed a value for placeholder tensor 'gradients/ReverseV2_grad/ReverseV2/ReverseV2/axis' with dtype int32 and shape [1]\n",
            "\t [[{{node gradients/ReverseV2_grad/ReverseV2/ReverseV2/axis}}]]\n",
            "2023-05-21 16:40:36.386568: I tensorflow/core/common_runtime/executor.cc:1197] [/device:CPU:0] (DEBUG INFO) Executor start aborting (this does not indicate an error and you can ignore this message): INVALID_ARGUMENT: You must feed a value for placeholder tensor 'gradients/split_2_grad/concat/split_2/split_dim' with dtype int32\n",
            "\t [[{{node gradients/split_2_grad/concat/split_2/split_dim}}]]\n",
            "2023-05-21 16:40:36.389505: I tensorflow/core/common_runtime/executor.cc:1197] [/device:CPU:0] (DEBUG INFO) Executor start aborting (this does not indicate an error and you can ignore this message): INVALID_ARGUMENT: You must feed a value for placeholder tensor 'gradients/split_grad/concat/split/split_dim' with dtype int32\n",
            "\t [[{{node gradients/split_grad/concat/split/split_dim}}]]\n",
            "2023-05-21 16:40:36.392537: I tensorflow/core/common_runtime/executor.cc:1197] [/device:CPU:0] (DEBUG INFO) Executor start aborting (this does not indicate an error and you can ignore this message): INVALID_ARGUMENT: You must feed a value for placeholder tensor 'gradients/split_1_grad/concat/split_1/split_dim' with dtype int32\n",
            "\t [[{{node gradients/split_1_grad/concat/split_1/split_dim}}]]\n"
          ]
        },
        {
          "name": "stdout",
          "output_type": "stream",
          "text": [
            "134/134 [==============================] - 1s 6ms/step\n"
          ]
        }
      ],
      "source": [
        "y_pred_probabilities=model.predict(X_test)\n",
        "y_pred = np.argmax(y_pred_probabilities, axis=1)"
      ]
    },
    {
      "cell_type": "code",
      "execution_count": 74,
      "metadata": {
        "execution": {
          "iopub.execute_input": "2023-05-20T10:09:26.304836Z",
          "iopub.status.busy": "2023-05-20T10:09:26.304479Z",
          "iopub.status.idle": "2023-05-20T10:09:26.311888Z",
          "shell.execute_reply": "2023-05-20T10:09:26.310637Z",
          "shell.execute_reply.started": "2023-05-20T10:09:26.304801Z"
        },
        "id": "5Zbs6VAclCcF",
        "trusted": true
      },
      "outputs": [
        {
          "name": "stdout",
          "output_type": "stream",
          "text": [
            "0.8710581639803784\n"
          ]
        }
      ],
      "source": [
        "#Accuracy score\n",
        "print(accuracy_score(y_test,y_pred))"
      ]
    },
    {
      "cell_type": "code",
      "execution_count": 82,
      "metadata": {
        "execution": {
          "iopub.execute_input": "2023-05-20T10:09:26.314995Z",
          "iopub.status.busy": "2023-05-20T10:09:26.314169Z",
          "iopub.status.idle": "2023-05-20T10:09:26.338393Z",
          "shell.execute_reply": "2023-05-20T10:09:26.337071Z",
          "shell.execute_reply.started": "2023-05-20T10:09:26.314947Z"
        },
        "id": "Q1wod4WAlCcI",
        "trusted": true
      },
      "outputs": [
        {
          "name": "stdout",
          "output_type": "stream",
          "text": [
            "              precision    recall  f1-score   support\n",
            "\n",
            "           0    0.81955   0.87061   0.84431       626\n",
            "           1    0.82911   0.74432   0.78443       528\n",
            "           2    0.90253   0.90658   0.90455      1338\n",
            "           3    0.77409   0.73734   0.75527       316\n",
            "           4    0.91851   0.93127   0.92485      1295\n",
            "           5    0.75543   0.78090   0.76796       178\n",
            "\n",
            "    accuracy                        0.87106      4281\n",
            "   macro avg    0.83320   0.82850   0.83023      4281\n",
            "weighted avg    0.87058   0.87106   0.87037      4281\n",
            "\n"
          ]
        }
      ],
      "source": [
        "#Classification report\n",
        "print(classification_report(y_test, y_pred, digits=5))"
      ]
    },
    {
      "cell_type": "code",
      "execution_count": 76,
      "metadata": {
        "execution": {
          "iopub.execute_input": "2023-05-20T10:09:26.340796Z",
          "iopub.status.busy": "2023-05-20T10:09:26.340283Z",
          "iopub.status.idle": "2023-05-20T10:09:26.749743Z",
          "shell.execute_reply": "2023-05-20T10:09:26.748548Z",
          "shell.execute_reply.started": "2023-05-20T10:09:26.340749Z"
        },
        "id": "jn9_dM3UlCcJ",
        "trusted": true
      },
      "outputs": [
        {
          "name": "stdout",
          "output_type": "stream",
          "text": [
            "Confusion Matrix\n",
            "Axes(0.125,0.11;0.62x0.77)\n"
          ]
        },
        {
          "data": {
            "image/png": "[encoded data removed]",
            "text/plain": [
              "<Figure size 640x480 with 2 Axes>"
            ]
          },
          "metadata": {},
          "output_type": "display_data"
        }
      ],
      "source": [
        "#Confusion Matrix\n",
        "print('Confusion Matrix')\n",
        "print(sns.heatmap(confusion_matrix(y_test, y_pred),annot=True,fmt=\"d\"))"
      ]
    },
    {
      "cell_type": "markdown",
      "metadata": {
        "id": "iRM4Ra1hlCcK"
      },
      "source": [
        "# Test on own"
      ]
    },
    {
      "cell_type": "code",
      "execution_count": 77,
      "metadata": {
        "execution": {
          "iopub.execute_input": "2023-05-20T10:09:26.753363Z",
          "iopub.status.busy": "2023-05-20T10:09:26.753015Z",
          "iopub.status.idle": "2023-05-20T10:09:26.759208Z",
          "shell.execute_reply": "2023-05-20T10:09:26.758118Z",
          "shell.execute_reply.started": "2023-05-20T10:09:26.753328Z"
        },
        "id": "DrZLn1A8lCcL",
        "trusted": true
      },
      "outputs": [
        {
          "name": "stdout",
          "output_type": "stream",
          "text": [
            "{'anger': 0, 'fear': 1, 'happy': 2, 'love': 3, 'sadness': 4, 'surprise': 5}\n"
          ]
        }
      ],
      "source": [
        "#Mapping of target classes using label-encoder\n",
        "le_name_mapping = dict(zip(label_encoder.classes_, label_encoder.transform(label_encoder.classes_)))\n",
        "print(le_name_mapping)"
      ]
    },
    {
      "cell_type": "code",
      "execution_count": 78,
      "metadata": {
        "execution": {
          "iopub.execute_input": "2023-05-20T10:09:26.761931Z",
          "iopub.status.busy": "2023-05-20T10:09:26.761410Z",
          "iopub.status.idle": "2023-05-20T10:09:26.774147Z",
          "shell.execute_reply": "2023-05-20T10:09:26.772893Z",
          "shell.execute_reply.started": "2023-05-20T10:09:26.761877Z"
        },
        "id": "wzW8oQt6lCcM",
        "trusted": true
      },
      "outputs": [],
      "source": [
        "#Example\n",
        "def predict_emotion(stri):\n",
        "    review = re.sub('[^a-zA-Z]', ' ', stri)\n",
        "    review = review.lower()\n",
        "    review = review.split()\n",
        "    review = [ps.stem(word) for word in review if not word in stopwords_list]\n",
        "    review = ' '.join(review)\n",
        "    onehot_repr = [one_hot(review,voc_size)] \n",
        "    embed = pad_sequences(onehot_repr,padding='pre',maxlen=sent_length)\n",
        "    predicti = model.predict(embed)\n",
        "    return label_encoder.classes_[np.argmax(predicti)]"
      ]
    },
    {
      "cell_type": "code",
      "execution_count": 79,
      "metadata": {
        "execution": {
          "iopub.execute_input": "2023-05-20T10:09:26.778202Z",
          "iopub.status.busy": "2023-05-20T10:09:26.777847Z",
          "iopub.status.idle": "2023-05-20T10:09:26.840189Z",
          "shell.execute_reply": "2023-05-20T10:09:26.838933Z",
          "shell.execute_reply.started": "2023-05-20T10:09:26.778168Z"
        },
        "id": "LW4Pkt-glCcN",
        "trusted": true
      },
      "outputs": [
        {
          "name": "stdout",
          "output_type": "stream",
          "text": [
            "1/1 [==============================] - 0s 24ms/step\n"
          ]
        },
        {
          "data": {
            "text/plain": [
              "'happy'"
            ]
          },
          "execution_count": 79,
          "metadata": {},
          "output_type": "execute_result"
        }
      ],
      "source": [
        "predict_emotion('happy')"
      ]
    },
    {
      "cell_type": "code",
      "execution_count": 80,
      "metadata": {
        "execution": {
          "iopub.execute_input": "2023-05-20T10:09:26.842402Z",
          "iopub.status.busy": "2023-05-20T10:09:26.841919Z",
          "iopub.status.idle": "2023-05-20T10:09:26.897067Z",
          "shell.execute_reply": "2023-05-20T10:09:26.896026Z",
          "shell.execute_reply.started": "2023-05-20T10:09:26.842352Z"
        },
        "id": "M541tSFMlCcP",
        "trusted": true
      },
      "outputs": [
        {
          "name": "stdout",
          "output_type": "stream",
          "text": [
            "1/1 [==============================] - 0s 53ms/step\n"
          ]
        },
        {
          "data": {
            "text/plain": [
              "'anger'"
            ]
          },
          "execution_count": 80,
          "metadata": {},
          "output_type": "execute_result"
        }
      ],
      "source": [
        "predict_emotion('He is an arrogant and rude person')"
      ]
    },
    {
      "cell_type": "code",
      "execution_count": 46,
      "metadata": {
        "execution": {
          "iopub.execute_input": "2023-05-20T10:09:26.898895Z",
          "iopub.status.busy": "2023-05-20T10:09:26.898534Z",
          "iopub.status.idle": "2023-05-20T10:09:26.956789Z",
          "shell.execute_reply": "2023-05-20T10:09:26.955930Z",
          "shell.execute_reply.started": "2023-05-20T10:09:26.898863Z"
        },
        "id": "Wu26JSumlCcQ",
        "trusted": true
      },
      "outputs": [
        {
          "name": "stdout",
          "output_type": "stream",
          "text": [
            "1/1 [==============================] - 0s 27ms/step\n"
          ]
        },
        {
          "data": {
            "text/plain": [
              "'anger'"
            ]
          },
          "execution_count": 46,
          "metadata": {},
          "output_type": "execute_result"
        }
      ],
      "source": [
        "predict_emotion('The teacher is intimidating and scary')"
      ]
    },
    {
      "cell_type": "code",
      "execution_count": 47,
      "metadata": {
        "execution": {
          "iopub.execute_input": "2023-05-20T10:21:53.561844Z",
          "iopub.status.busy": "2023-05-20T10:21:53.561391Z",
          "iopub.status.idle": "2023-05-20T10:21:53.619872Z",
          "shell.execute_reply": "2023-05-20T10:21:53.618661Z",
          "shell.execute_reply.started": "2023-05-20T10:21:53.561804Z"
        },
        "id": "78VBA7mhlCcS",
        "trusted": true
      },
      "outputs": [
        {
          "name": "stdout",
          "output_type": "stream",
          "text": [
            "1/1 [==============================] - 0s 22ms/step\n"
          ]
        },
        {
          "data": {
            "text/plain": [
              "'anger'"
            ]
          },
          "execution_count": 47,
          "metadata": {},
          "output_type": "execute_result"
        }
      ],
      "source": [
        "predict_emotion('love')"
      ]
    },
    {
      "cell_type": "code",
      "execution_count": 81,
      "metadata": {
        "id": "K81q9SIqXKZD"
      },
      "outputs": [],
      "source": [
        "model_json = model.to_json()\n",
        "with open(\"model_architecture.json\", \"w\") as json_file:\n",
        "    json_file.write(model_json)"
      ]
    }
  ],
  "metadata": {
    "colab": {
      "provenance": []
    },
    "kernelspec": {
      "display_name": "Python 3",
      "language": "python",
      "name": "python3"
    },
    "language_info": {
      "codemirror_mode": {
        "name": "ipython",
        "version": 3
      },
      "file_extension": ".py",
      "mimetype": "text/x-python",
      "name": "python",
      "nbconvert_exporter": "python",
      "pygments_lexer": "ipython3",
      "version": "3.10.6"
    }
  },
  "nbformat": 4,
  "nbformat_minor": 0
}
